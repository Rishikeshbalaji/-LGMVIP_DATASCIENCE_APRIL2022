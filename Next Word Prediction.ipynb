{
 "cells": [
  {
   "cell_type": "markdown",
   "id": "64ad2acc",
   "metadata": {},
   "source": [
    "# ASHITA K\n",
    "# ADVANCE LEVEL TASK 2:\n",
    "# 2) Next Word Prediction"
   ]
  },
  {
   "cell_type": "markdown",
   "id": "71d464b7",
   "metadata": {},
   "source": [
    "# Importing Libraries"
   ]
  },
  {
   "cell_type": "code",
   "execution_count": 1,
   "id": "b338836f",
   "metadata": {},
   "outputs": [],
   "source": [
    "import numpy as np\n",
    "import matplotlib.pyplot as plt\n",
    "from keras.models import Sequential, load_model \n",
    "from keras.layers import LSTM\n",
    "from keras.layers.core import Dense, Activation \n",
    "from tensorflow.keras.optimizers import RMSprop\n",
    "from nltk. tokenize import RegexpTokenizer \n",
    "import pickle\n",
    "import heapq\n",
    "import warnings\n",
    "warnings.filterwarnings('ignore')"
   ]
  },
  {
   "cell_type": "markdown",
   "id": "70b168ec",
   "metadata": {},
   "source": [
    "# Loading the data"
   ]
  },
  {
   "cell_type": "code",
   "execution_count": 2,
   "id": "a4cd91b6",
   "metadata": {},
   "outputs": [
    {
     "name": "stdout",
     "output_type": "stream",
     "text": [
      "corpus length: 581888\n"
     ]
    }
   ],
   "source": [
    "data = '1661-0.txt'\n",
    "text = open(data, encoding='utf-8').read().lower() \n",
    "print('corpus length:', len(text))"
   ]
  },
  {
   "cell_type": "code",
   "execution_count": 3,
   "id": "e265ffba",
   "metadata": {},
   "outputs": [],
   "source": [
    "tokenizer = RegexpTokenizer(r'\\w+')\n",
    "words = tokenizer.tokenize(text)"
   ]
  },
  {
   "cell_type": "code",
   "execution_count": 4,
   "id": "3373f3f7",
   "metadata": {},
   "outputs": [],
   "source": [
    "unique_words = np.unique(words)\n",
    "unique_word_index = dict((c, i) for i, c in enumerate(unique_words))"
   ]
  },
  {
   "cell_type": "code",
   "execution_count": 5,
   "id": "1bbd96f3",
   "metadata": {},
   "outputs": [
    {
     "name": "stdout",
     "output_type": "stream",
     "text": [
      "['project', 'gutenberg', 's', 'the', 'adventures']\n",
      "of\n"
     ]
    }
   ],
   "source": [
    "WORD_LENGTH= 5\n",
    "prev_words = [] \n",
    "next_words = []\n",
    "for i in range(len (words) - WORD_LENGTH):\n",
    "    prev_words.append(words[i:i + WORD_LENGTH])\n",
    "    next_words.append(words[i + WORD_LENGTH])\n",
    "print(prev_words[0]) \n",
    "print(next_words[0])"
   ]
  },
  {
   "cell_type": "code",
   "execution_count": 6,
   "id": "f6dc2e77",
   "metadata": {},
   "outputs": [],
   "source": [
    "X = np.zeros((len(prev_words), WORD_LENGTH, len(unique_words)), dtype=bool)\n",
    "Y = np.zeros((len (next_words), len(unique_words)), dtype=bool)\n",
    "for i, each_words in enumerate(prev_words):\n",
    "    for j, each_word in enumerate(each_words):\n",
    "        X[i, j, unique_word_index[each_word]] = 1\n",
    "    Y[i, unique_word_index[next_words[i]]] = 1"
   ]
  },
  {
   "cell_type": "code",
   "execution_count": 7,
   "id": "31358c47",
   "metadata": {},
   "outputs": [
    {
     "name": "stdout",
     "output_type": "stream",
     "text": [
      "[False False False ... False False False]\n"
     ]
    }
   ],
   "source": [
    "print(X[0][0])"
   ]
  },
  {
   "cell_type": "code",
   "execution_count": 8,
   "id": "ddf262cc",
   "metadata": {},
   "outputs": [],
   "source": [
    "model = Sequential()\n",
    "model.add(LSTM(128, input_shape=(WORD_LENGTH, len(unique_words))))\n",
    "model.add(Dense(len(unique_words)))   \n",
    "model.add(Activation('softmax'))"
   ]
  },
  {
   "cell_type": "code",
   "execution_count": 9,
   "id": "14d52081",
   "metadata": {},
   "outputs": [
    {
     "name": "stdout",
     "output_type": "stream",
     "text": [
      "Epoch 1/2\n",
      "811/811 [==============================] - 222s 271ms/step - loss: 6.0169 - accuracy: 0.1054 - val_loss: 7.1298 - val_accuracy: 0.1007\n",
      "Epoch 2/2\n",
      "811/811 [==============================] - 215s 265ms/step - loss: 5.7900 - accuracy: 0.1472 - val_loss: 7.9124 - val_accuracy: 0.1034\n"
     ]
    }
   ],
   "source": [
    "optimizer = RMSprop(lr = 0.01) \n",
    "model.compile(loss = 'categorical_crossentropy', optimizer = optimizer, metrics=['accuracy'])\n",
    "history = model.fit(X, Y, validation_split=0.05, batch_size=128, epochs=2, shuffle=True).history"
   ]
  },
  {
   "cell_type": "code",
   "execution_count": 10,
   "id": "f4fc8f25",
   "metadata": {},
   "outputs": [],
   "source": [
    "model.save('keras_next_word_model.h5') \n",
    "pickle.dump(history, open(\"history.p\", \"wb\")) \n",
    "model = load_model('keras_next_word_model.h5') \n",
    "history = pickle.load(open(\"history.p\", \"rb\"))"
   ]
  },
  {
   "cell_type": "code",
   "execution_count": 11,
   "id": "8d0b86f5",
   "metadata": {},
   "outputs": [
    {
     "name": "stdout",
     "output_type": "stream",
     "text": [
      "then\n"
     ]
    },
    {
     "data": {
      "text/plain": [
       "array([[[0., 0., 0., ..., 0., 0., 0.],\n",
       "        [0., 0., 0., ..., 0., 0., 0.],\n",
       "        [0., 0., 0., ..., 0., 0., 0.],\n",
       "        [0., 0., 0., ..., 0., 0., 0.],\n",
       "        [0., 0., 0., ..., 0., 0., 0.]]])"
      ]
     },
     "execution_count": 11,
     "metadata": {},
     "output_type": "execute_result"
    }
   ],
   "source": [
    "def prepare_input(text):\n",
    "    x = np.zeros((1, WORD_LENGTH, len(unique_words))) \n",
    "    for t, word in enumerate(text.split()):\n",
    "        print (word)\n",
    "        x[0, t, unique_word_index[word]] = 1\n",
    "        return x \n",
    "prepare_input(\"Then how many are there?\".lower())"
   ]
  },
  {
   "cell_type": "code",
   "execution_count": 12,
   "id": "daedf0c4",
   "metadata": {},
   "outputs": [],
   "source": [
    "def sample(preds, top_n = 3):\n",
    "    preds= np.asarray(preds).astype('float64') \n",
    "    preds= np.log(preds)\n",
    "    exp_preds= np.exp(preds) \n",
    "    preds= exp_preds/np.sum(exp_preds) \n",
    "    return heapq.nlargest(top_n, range(len(preds)), preds.take)"
   ]
  },
  {
   "cell_type": "code",
   "execution_count": 13,
   "id": "8a30125b",
   "metadata": {},
   "outputs": [],
   "source": [
    "def predict_completions(text, n=3):\n",
    "    if text == \"\":\n",
    "        return(\"\")\n",
    "    x = prepare_input(text) \n",
    "    preds = model.predict(x, verbose=0)[0]\n",
    "    next_indices = sample(preds, n)\n",
    "    return [unique_words[idx] for idx in next_indices]"
   ]
  },
  {
   "cell_type": "markdown",
   "id": "036adff8",
   "metadata": {},
   "source": [
    "# Next word prediction"
   ]
  },
  {
   "cell_type": "code",
   "execution_count": 15,
   "id": "895d833a",
   "metadata": {},
   "outputs": [
    {
     "name": "stdout",
     "output_type": "stream",
     "text": [
      "correct sentence:  you have frequently seen the steps which lead up from the hall to this room\n",
      "Sequence:  you have frequently seen the\n",
      "you\n",
      "next possible words:  ['in', 'and', 'to', 'of', 'i']\n"
     ]
    }
   ],
   "source": [
    "s = \"you have frequently seen the steps which lead up from the hall to this room\" \n",
    "print(\"correct sentence: \",s) \n",
    "seq = \" \".join(tokenizer.tokenize(q.lower())[0:5]) \n",
    "print(\"Sequence: \",seq) \n",
    "print(\"next possible words: \", predict_completions(seq, 5))"
   ]
  }
 ],
 "metadata": {
  "kernelspec": {
   "display_name": "Python 3",
   "language": "python",
   "name": "python3"
  },
  "language_info": {
   "codemirror_mode": {
    "name": "ipython",
    "version": 3
   },
   "file_extension": ".py",
   "mimetype": "text/x-python",
   "name": "python",
   "nbconvert_exporter": "python",
   "pygments_lexer": "ipython3",
   "version": "3.8.8"
  }
 },
 "nbformat": 4,
 "nbformat_minor": 5
}
